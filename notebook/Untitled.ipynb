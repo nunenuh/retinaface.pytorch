{
 "cells": [
  {
   "cell_type": "code",
   "execution_count": 1,
   "id": "3d7caf80-6fa9-4968-a84c-84f5470742ed",
   "metadata": {},
   "outputs": [],
   "source": [
    "from torchvision.datasets.widerface import WIDERFace"
   ]
  },
  {
   "cell_type": "code",
   "execution_count": 6,
   "id": "03ce7c1a-b68a-4277-a89d-03fccfc8b26b",
   "metadata": {},
   "outputs": [
    {
     "name": "stdout",
     "output_type": "stream",
     "text": [
      "Files already downloaded and verified\n"
     ]
    }
   ],
   "source": [
    "dataset = WIDERFace(root='/data/WIDERFace', download=True)"
   ]
  },
  {
   "cell_type": "code",
   "execution_count": 8,
   "id": "082a0228-5d68-4ea0-b1fe-38eec3722e6c",
   "metadata": {},
   "outputs": [
    {
     "data": {
      "text/plain": [
       "(<PIL.JpegImagePlugin.JpegImageFile image mode=RGB size=1024x755 at 0x7F17E1C3E150>,\n",
       " {'bbox': tensor([[178, 238,  55,  73],\n",
       "          [248, 235,  59,  73],\n",
       "          [363, 157,  59,  73],\n",
       "          [468, 153,  53,  72],\n",
       "          [629, 110,  56,  81],\n",
       "          [745, 138,  55,  77]]),\n",
       "  'blur': tensor([2, 2, 2, 2, 2, 2]),\n",
       "  'expression': tensor([0, 0, 0, 0, 0, 0]),\n",
       "  'illumination': tensor([0, 0, 0, 0, 0, 0]),\n",
       "  'occlusion': tensor([0, 0, 0, 0, 0, 0]),\n",
       "  'pose': tensor([1, 2, 1, 2, 1, 2]),\n",
       "  'invalid': tensor([0, 0, 0, 0, 0, 0])})"
      ]
     },
     "execution_count": 8,
     "metadata": {},
     "output_type": "execute_result"
    }
   ],
   "source": [
    "dataset[10]"
   ]
  },
  {
   "cell_type": "code",
   "execution_count": null,
   "id": "31d30ee5-7683-4120-9036-3d91b749cff2",
   "metadata": {},
   "outputs": [],
   "source": []
  }
 ],
 "metadata": {
  "kernelspec": {
   "display_name": "Python 3 (ipykernel)",
   "language": "python",
   "name": "python3"
  },
  "language_info": {
   "codemirror_mode": {
    "name": "ipython",
    "version": 3
   },
   "file_extension": ".py",
   "mimetype": "text/x-python",
   "name": "python",
   "nbconvert_exporter": "python",
   "pygments_lexer": "ipython3",
   "version": "3.7.11"
  }
 },
 "nbformat": 4,
 "nbformat_minor": 5
}
