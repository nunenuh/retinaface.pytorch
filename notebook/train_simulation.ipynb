{
 "cells": [
  {
   "cell_type": "code",
   "execution_count": 1,
   "id": "3bcba292-d9d8-4caa-9beb-4666821c85fa",
   "metadata": {},
   "outputs": [],
   "source": [
    "%load_ext autoreload\n",
    "%autoreload 2"
   ]
  },
  {
   "cell_type": "code",
   "execution_count": 2,
   "id": "8f66368b-559e-4847-b979-30949a2f9ac5",
   "metadata": {},
   "outputs": [],
   "source": [
    "import torch\n",
    "import torch.optim as optim\n",
    "import matplotlib.pyplot as plt\n",
    "import numpy as np\n",
    "import cv2\n",
    "from torch.utils.data import DataLoader "
   ]
  },
  {
   "cell_type": "code",
   "execution_count": 3,
   "id": "c77e3d31-5e03-4e89-a0d8-5956069bccd2",
   "metadata": {},
   "outputs": [],
   "source": [
    "from retina.data.widerface import WiderFaceCustomDataset\n",
    "from retina import transforms as CT\n",
    "from torchvision import transforms as T\n",
    "\n",
    "from torch.utils.data import DataLoader\n",
    "from retina.data.widerface import detection_collate\n",
    "\n",
    "from retina.ops.nms import py_cpu_nms\n",
    "import numpy as np\n",
    "\n",
    "from retina.models.retina import RetinaFace\n",
    "from retina.data import config\n",
    "from retina.modules.prior_box import PriorBox, CustomPriorBox\n",
    "from retina.ops.boxes import decode, decode_landm\n",
    "from retina.modules.loss import MultiBoxLoss"
   ]
  },
  {
   "cell_type": "code",
   "execution_count": 4,
   "id": "06cb4592-53a5-4e6c-a663-ecc05f3f34f0",
   "metadata": {},
   "outputs": [],
   "source": [
    "def adjust_learning_rate(optimizer, gamma, epoch, step_index, iteration, epoch_size):\n",
    "    \"\"\"Sets the learning rate\n",
    "    # Adapted from PyTorch Imagenet example:\n",
    "    # https://github.com/pytorch/examples/blob/master/imagenet/main.py\n",
    "    \"\"\"\n",
    "    warmup_epoch = -1\n",
    "    if epoch <= warmup_epoch:\n",
    "        lr = 1e-6 + (initial_lr-1e-6) * iteration / (epoch_size * warmup_epoch)\n",
    "    else:\n",
    "        lr = initial_lr * (gamma ** (step_index))\n",
    "    for param_group in optimizer.param_groups:\n",
    "        param_group['lr'] = lr\n",
    "    return lr"
   ]
  },
  {
   "cell_type": "code",
   "execution_count": 5,
   "id": "e3e22ce4-8442-43f6-bc33-9c5f45856b05",
   "metadata": {},
   "outputs": [],
   "source": [
    "BSIZE = 2\n",
    "NUM_WORKERS = 0\n",
    "LRATE = 1e-3\n",
    "MOMENTUM = 0.9\n",
    "WDECAY = 5e-4\n",
    "GAMMA = 0.1\n",
    "NUM_CLASSES = 2\n",
    "IMG_SIZE = 640\n",
    "RGB_MEANS = (104, 117, 123)"
   ]
  },
  {
   "cell_type": "code",
   "execution_count": 6,
   "id": "c6d4a97f-ecaf-46d3-8d8d-968c74a7b8a8",
   "metadata": {},
   "outputs": [],
   "source": [
    "root = '/data/widerface/custom_dataset/train/'\n",
    "dataset = WiderFaceCustomDataset(root=root, pair_transform=CT.Preprocess(img_dim=IMG_SIZE, rgb_means=RGB_MEANS))\n",
    "loader = DataLoader(dataset, batch_size=BSIZE, shuffle=True, num_workers=NUM_WORKERS, collate_fn=detection_collate)"
   ]
  },
  {
   "cell_type": "code",
   "execution_count": 7,
   "id": "5c98da1c-105f-4f96-a585-8f22928195e4",
   "metadata": {},
   "outputs": [
    {
     "name": "stdout",
     "output_type": "stream",
     "text": [
      "Loading pretrained model from ../weights/Resnet50_Final.pth\n",
      "remove prefix 'module.'\n",
      "Missing keys:0\n",
      "Unused checkpoint keys:0\n",
      "Used keys:456\n",
      "\n"
     ]
    }
   ],
   "source": [
    "from retina.models.retina import RetinaFace, retina_face\n",
    "\n",
    "model = retina_face(backbone=\"resnet\", final_weight='../weights/Resnet50_Final.pth')\n",
    "model.eval()\n",
    "print()"
   ]
  },
  {
   "cell_type": "code",
   "execution_count": 8,
   "id": "407d80a8-31bb-4a5a-95b6-593f62e5f4e8",
   "metadata": {},
   "outputs": [],
   "source": [
    "def get_prior_box_data(image_size, min_sizes=None, steps=None, clip=False, device=\"cpu\"):\n",
    "    img_width, img_height = image_size\n",
    "    priorbox = CustomPriorBox(image_size=(img_width, img_height), min_sizes=min_sizes, steps=steps, clip=clip)\n",
    "    with torch.no_grad():\n",
    "        priors = priorbox.forward()\n",
    "        priors = priors.to(device)\n",
    "        prior_data = priors.data\n",
    "    return prior_data"
   ]
  },
  {
   "cell_type": "code",
   "execution_count": 9,
   "id": "012a797c-632d-4a3a-a74b-b9fa2d126d9a",
   "metadata": {},
   "outputs": [],
   "source": [
    "prior = get_prior_box_data(image_size=(IMG_SIZE,IMG_SIZE))\n",
    "optimizer = optim.SGD(model.parameters(), lr=LRATE, momentum=MOMENTUM, weight_decay=WDECAY)\n",
    "criterion = MultiBoxLoss(NUM_CLASSES, 0.35, True, 0, True, 7, 0.35, False)"
   ]
  },
  {
   "cell_type": "code",
   "execution_count": 10,
   "id": "49f8267d-fcf4-4804-a596-d9863e5d694f",
   "metadata": {},
   "outputs": [],
   "source": [
    "# priorbox = CustomPriorBox(image_size=(IMG_SIZE, IMG_SIZE))\n",
    "# with torch.no_grad():\n",
    "#     priors = priorbox.forward()\n",
    "#     priors = priors.cuda()\n",
    "\n",
    "\n"
   ]
  },
  {
   "cell_type": "code",
   "execution_count": 17,
   "id": "c524d6b4-76bb-4e9d-bdfe-c7b800af3867",
   "metadata": {},
   "outputs": [],
   "source": [
    "import torch\n",
    "import torch.nn as nn\n",
    "import torch.optim as optim\n",
    "\n",
    "import pytorch_lightning as pl\n",
    "from pytorch_lightning import loggers as pl_loggers\n",
    "\n",
    "\n",
    "class RetinaFaceTask(pl.LightningModule):\n",
    "    def __init__(self, model, optimizer, criterion, prior, scheduler=None):\n",
    "        super(RetinaFaceTask, self).__init__()\n",
    "        self.model = model\n",
    "        self.criterion = criterion\n",
    "        self.optimizer = optimizer\n",
    "        self.prior = prior\n",
    "        self.scheduler = scheduler\n",
    "        # self.metric = Accuracy()\n",
    "        \n",
    "    def forward(self, images):\n",
    "        output = self.model(images)\n",
    "        return output\n",
    "    \n",
    "    def shared_step(self, batch, batch_idx):\n",
    "        images, targets = batch\n",
    "        images = images.to(self.device)\n",
    "        targets = [anno.to(self.device) for anno in targets]\n",
    "    \n",
    "        predict = self.model.forward(images)\n",
    "        \n",
    "        loss_l, loss_c, loss_landm = self.criterion(predict, self.prior, targets)\n",
    "        loc_weight = 2.0\n",
    "        loss = loc_weight * loss_l + loss_c + loss_landm\n",
    "        \n",
    "        return loss\n",
    "    \n",
    "    def training_step(self, batch, batch_idx):\n",
    "        loss = self.shared_step(batch, batch_idx)\n",
    "        self.log('trn_loss', loss, on_step=True, on_epoch=True, prog_bar=True, logger=True)\n",
    "\n",
    "        return loss\n",
    "\n",
    "    def validation_step(self, batch, batch_idx):\n",
    "        loss = self.shared_step(batch, batch_idx)\n",
    "        self.log('val_loss', loss, on_step=True, on_epoch=True, prog_bar=True, logger=True)\n",
    "\n",
    "        return loss\n",
    "\n",
    "    def configure_optimizers(self):\n",
    "        if self.scheduler:\n",
    "            return [self.optimizer], [self.scheduler]\n",
    "        return self.optimizer\n"
   ]
  },
  {
   "cell_type": "code",
   "execution_count": 18,
   "id": "0a84d28a-a30d-4031-ad2f-1ec0df5373a4",
   "metadata": {},
   "outputs": [],
   "source": [
    "retina_task = RetinaFaceTask(model=model, optimizer=optimizer, criterion=criterion, prior=prior)"
   ]
  },
  {
   "cell_type": "code",
   "execution_count": 19,
   "id": "7ec51b70-aad1-40e2-a30e-313926dc9fed",
   "metadata": {},
   "outputs": [],
   "source": [
    "import pytorch_lightning as pl\n",
    "from retina.data.datamodule import WiderFaceDataModule"
   ]
  },
  {
   "cell_type": "code",
   "execution_count": 20,
   "id": "cc988e91-1f17-4083-8cfc-c849f1c2ee06",
   "metadata": {},
   "outputs": [],
   "source": [
    "datamodule = WiderFaceDataModule(data_dir='/data/widerface/custom_dataset/')"
   ]
  },
  {
   "cell_type": "code",
   "execution_count": 21,
   "id": "8d5e57c8-32e2-46ee-96bf-30cb163ecf32",
   "metadata": {},
   "outputs": [],
   "source": [
    "datamodule.setup(stage=\"fit\")"
   ]
  },
  {
   "cell_type": "code",
   "execution_count": null,
   "id": "89af848a-08ee-4118-82b8-f3801b49f0e6",
   "metadata": {},
   "outputs": [],
   "source": []
  },
  {
   "cell_type": "code",
   "execution_count": 22,
   "id": "b91353ee-360a-4e19-9b97-2506784c91d1",
   "metadata": {},
   "outputs": [
    {
     "name": "stderr",
     "output_type": "stream",
     "text": [
      "GPU available: False, used: False\n",
      "TPU available: False, using: 0 TPU cores\n",
      "IPU available: False, using: 0 IPUs\n",
      "\n",
      "  | Name      | Type         | Params\n",
      "-------------------------------------------\n",
      "0 | model     | RetinaFace   | 27.3 M\n",
      "1 | criterion | MultiBoxLoss | 0     \n",
      "-------------------------------------------\n",
      "27.3 M    Trainable params\n",
      "0         Non-trainable params\n",
      "27.3 M    Total params\n",
      "109.174   Total estimated model params size (MB)\n"
     ]
    },
    {
     "data": {
      "application/vnd.jupyter.widget-view+json": {
       "model_id": "",
       "version_major": 2,
       "version_minor": 0
      },
      "text/plain": [
       "Validation sanity check: 0it [00:00, ?it/s]"
      ]
     },
     "metadata": {},
     "output_type": "display_data"
    },
    {
     "name": "stderr",
     "output_type": "stream",
     "text": [
      "/opt/anaconda/envs/dlearn37/lib/python3.7/site-packages/pytorch_lightning/utilities/data.py:60: UserWarning: Trying to infer the `batch_size` from an ambiguous collection. The batch size we found is 32. To avoid any miscalculations, use `self.log(..., batch_size=batch_size)`.\n",
      "  \"Trying to infer the `batch_size` from an ambiguous collection. The batch size we\"\n"
     ]
    },
    {
     "data": {
      "application/vnd.jupyter.widget-view+json": {
       "model_id": "ce010b7e704a461fb3933431f4560d9f",
       "version_major": 2,
       "version_minor": 0
      },
      "text/plain": [
       "Training: 0it [00:00, ?it/s]"
      ]
     },
     "metadata": {},
     "output_type": "display_data"
    },
    {
     "name": "stderr",
     "output_type": "stream",
     "text": [
      "/opt/anaconda/envs/dlearn37/lib/python3.7/site-packages/pytorch_lightning/trainer/trainer.py:688: UserWarning: Detected KeyboardInterrupt, attempting graceful shutdown...\n",
      "  rank_zero_warn(\"Detected KeyboardInterrupt, attempting graceful shutdown...\")\n"
     ]
    }
   ],
   "source": [
    "trainer = pl.Trainer(gpus=0)\n",
    "trainer.fit(retina_task, datamodule)"
   ]
  },
  {
   "cell_type": "code",
   "execution_count": null,
   "id": "f9d8f77a-f50e-40f4-af57-56fe7e863218",
   "metadata": {},
   "outputs": [],
   "source": [
    "loader = datamodule.val_dataloader()\n",
    "images, targets = next(iter(loader))"
   ]
  },
  {
   "cell_type": "code",
   "execution_count": null,
   "id": "7f6e3677-c77a-4693-b647-8a7cf1d0e4b9",
   "metadata": {},
   "outputs": [],
   "source": [
    "trainset = datamodule.trainset\n",
    "# images, targets = next(iter(loader))"
   ]
  },
  {
   "cell_type": "code",
   "execution_count": null,
   "id": "320caf3d-4dd5-471a-8de5-c590f739d988",
   "metadata": {},
   "outputs": [],
   "source": [
    "image, target = trainset[0]"
   ]
  },
  {
   "cell_type": "code",
   "execution_count": null,
   "id": "2d3a1680-0513-4868-9fa0-f95065a9f0df",
   "metadata": {},
   "outputs": [],
   "source": [
    "# target"
   ]
  },
  {
   "cell_type": "code",
   "execution_count": null,
   "id": "e3963882-0ca3-4aa7-9589-0ff3f46d876f",
   "metadata": {},
   "outputs": [],
   "source": [
    "loader"
   ]
  },
  {
   "cell_type": "code",
   "execution_count": null,
   "id": "6beda852-9c0b-4e7d-a030-a899de632712",
   "metadata": {},
   "outputs": [],
   "source": [
    "# targets"
   ]
  },
  {
   "cell_type": "code",
   "execution_count": null,
   "id": "a5dae910-be69-4c05-9af5-ce23822b7702",
   "metadata": {},
   "outputs": [],
   "source": [
    "len(trainset)"
   ]
  },
  {
   "cell_type": "code",
   "execution_count": null,
   "id": "5e97b5f4-b439-4199-a7ef-decd323ed3c4",
   "metadata": {},
   "outputs": [],
   "source": []
  },
  {
   "cell_type": "code",
   "execution_count": null,
   "id": "33b7ce72-f3fe-4181-b794-67b8bed4d923",
   "metadata": {},
   "outputs": [],
   "source": []
  }
 ],
 "metadata": {
  "kernelspec": {
   "display_name": "Python 3 (ipykernel)",
   "language": "python",
   "name": "python3"
  },
  "language_info": {
   "codemirror_mode": {
    "name": "ipython",
    "version": 3
   },
   "file_extension": ".py",
   "mimetype": "text/x-python",
   "name": "python",
   "nbconvert_exporter": "python",
   "pygments_lexer": "ipython3",
   "version": "3.7.11"
  }
 },
 "nbformat": 4,
 "nbformat_minor": 5
}
